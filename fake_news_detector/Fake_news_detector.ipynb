{
 "cells": [
  {
   "cell_type": "markdown",
   "metadata": {},
   "source": [
    "# Fake News Detector\n",
    "#### Load Libraries"
   ]
  },
  {
   "cell_type": "code",
   "execution_count": 1,
   "metadata": {},
   "outputs": [],
   "source": [
    "import pandas as pd\n",
    "import numpy as np\n",
    "import re\n",
    "\n",
    "# Data Visualization\n",
    "import matplotlib.pyplot as plt\n",
    "import seaborn as sns\n",
    "\n",
    "# NLTK\n",
    "from nltk.corpus import stopwords\n",
    "from textblob import Word\n",
    "from nltk.stem import WordNetLemmatizer\n",
    "\n",
    "# Sklearn\n",
    "from sklearn.feature_extraction.text import TfidfVectorizer\n",
    "from sklearn.pipeline import Pipeline\n",
    "from sklearn.naive_bayes import MultinomialNB\n",
    "from sklearn.linear_model import PassiveAggressiveClassifier\n",
    "from sklearn.linear_model import SGDClassifier\n",
    "from sklearn.model_selection import train_test_split, GridSearchCV"
   ]
  },
  {
   "cell_type": "markdown",
   "metadata": {},
   "source": [
    "#### Test / Train Dataset Load"
   ]
  },
  {
   "cell_type": "code",
   "execution_count": 2,
   "metadata": {},
   "outputs": [
    {
     "data": {
      "text/html": [
       "<div>\n",
       "<style scoped>\n",
       "    .dataframe tbody tr th:only-of-type {\n",
       "        vertical-align: middle;\n",
       "    }\n",
       "\n",
       "    .dataframe tbody tr th {\n",
       "        vertical-align: top;\n",
       "    }\n",
       "\n",
       "    .dataframe thead th {\n",
       "        text-align: right;\n",
       "    }\n",
       "</style>\n",
       "<table border=\"1\" class=\"dataframe\">\n",
       "  <thead>\n",
       "    <tr style=\"text-align: right;\">\n",
       "      <th></th>\n",
       "      <th>ID</th>\n",
       "      <th>title</th>\n",
       "      <th>text</th>\n",
       "      <th>label</th>\n",
       "      <th>X1</th>\n",
       "      <th>X2</th>\n",
       "    </tr>\n",
       "  </thead>\n",
       "  <tbody>\n",
       "    <tr>\n",
       "      <th>0</th>\n",
       "      <td>8476</td>\n",
       "      <td>You Can Smell Hillary’s Fear</td>\n",
       "      <td>Daniel Greenfield, a Shillman Journalism Fello...</td>\n",
       "      <td>FAKE</td>\n",
       "      <td>NaN</td>\n",
       "      <td>NaN</td>\n",
       "    </tr>\n",
       "    <tr>\n",
       "      <th>1</th>\n",
       "      <td>10294</td>\n",
       "      <td>Watch The Exact Moment Paul Ryan Committed Pol...</td>\n",
       "      <td>Google Pinterest Digg Linkedin Reddit Stumbleu...</td>\n",
       "      <td>FAKE</td>\n",
       "      <td>NaN</td>\n",
       "      <td>NaN</td>\n",
       "    </tr>\n",
       "    <tr>\n",
       "      <th>2</th>\n",
       "      <td>3608</td>\n",
       "      <td>Kerry to go to Paris in gesture of sympathy</td>\n",
       "      <td>U.S. Secretary of State John F. Kerry said Mon...</td>\n",
       "      <td>REAL</td>\n",
       "      <td>NaN</td>\n",
       "      <td>NaN</td>\n",
       "    </tr>\n",
       "    <tr>\n",
       "      <th>3</th>\n",
       "      <td>10142</td>\n",
       "      <td>Bernie supporters on Twitter erupt in anger ag...</td>\n",
       "      <td>— Kaydee King (@KaydeeKing) November 9, 2016 T...</td>\n",
       "      <td>FAKE</td>\n",
       "      <td>NaN</td>\n",
       "      <td>NaN</td>\n",
       "    </tr>\n",
       "    <tr>\n",
       "      <th>4</th>\n",
       "      <td>875</td>\n",
       "      <td>The Battle of New York: Why This Primary Matters</td>\n",
       "      <td>It's primary day in New York and front-runners...</td>\n",
       "      <td>REAL</td>\n",
       "      <td>NaN</td>\n",
       "      <td>NaN</td>\n",
       "    </tr>\n",
       "  </tbody>\n",
       "</table>\n",
       "</div>"
      ],
      "text/plain": [
       "      ID                                              title  \\\n",
       "0   8476                       You Can Smell Hillary’s Fear   \n",
       "1  10294  Watch The Exact Moment Paul Ryan Committed Pol...   \n",
       "2   3608        Kerry to go to Paris in gesture of sympathy   \n",
       "3  10142  Bernie supporters on Twitter erupt in anger ag...   \n",
       "4    875   The Battle of New York: Why This Primary Matters   \n",
       "\n",
       "                                                text label   X1   X2  \n",
       "0  Daniel Greenfield, a Shillman Journalism Fello...  FAKE  NaN  NaN  \n",
       "1  Google Pinterest Digg Linkedin Reddit Stumbleu...  FAKE  NaN  NaN  \n",
       "2  U.S. Secretary of State John F. Kerry said Mon...  REAL  NaN  NaN  \n",
       "3  — Kaydee King (@KaydeeKing) November 9, 2016 T...  FAKE  NaN  NaN  \n",
       "4  It's primary day in New York and front-runners...  REAL  NaN  NaN  "
      ]
     },
     "execution_count": 2,
     "metadata": {},
     "output_type": "execute_result"
    }
   ],
   "source": [
    "data = pd.read_csv('fake_news_train.csv')\n",
    "data.head()"
   ]
  },
  {
   "cell_type": "code",
   "execution_count": 3,
   "metadata": {},
   "outputs": [
    {
     "data": {
      "text/html": [
       "<div>\n",
       "<style scoped>\n",
       "    .dataframe tbody tr th:only-of-type {\n",
       "        vertical-align: middle;\n",
       "    }\n",
       "\n",
       "    .dataframe tbody tr th {\n",
       "        vertical-align: top;\n",
       "    }\n",
       "\n",
       "    .dataframe thead th {\n",
       "        text-align: right;\n",
       "    }\n",
       "</style>\n",
       "<table border=\"1\" class=\"dataframe\">\n",
       "  <thead>\n",
       "    <tr style=\"text-align: right;\">\n",
       "      <th></th>\n",
       "      <th>Unnamed: 0</th>\n",
       "      <th>ID</th>\n",
       "      <th>title</th>\n",
       "      <th>text</th>\n",
       "    </tr>\n",
       "  </thead>\n",
       "  <tbody>\n",
       "    <tr>\n",
       "      <th>0</th>\n",
       "      <td>0</td>\n",
       "      <td>10498</td>\n",
       "      <td>September New Homes Sales Rise——-Back To 1992 ...</td>\n",
       "      <td>September New Homes Sales Rise Back To 1992 Le...</td>\n",
       "    </tr>\n",
       "    <tr>\n",
       "      <th>1</th>\n",
       "      <td>1</td>\n",
       "      <td>2439</td>\n",
       "      <td>Why The Obamacare Doomsday Cult Can't Admit It...</td>\n",
       "      <td>But when Congress debated and passed the Patie...</td>\n",
       "    </tr>\n",
       "    <tr>\n",
       "      <th>2</th>\n",
       "      <td>2</td>\n",
       "      <td>864</td>\n",
       "      <td>Sanders, Cruz resist pressure after NY losses,...</td>\n",
       "      <td>The Bernie Sanders and Ted Cruz campaigns vowe...</td>\n",
       "    </tr>\n",
       "    <tr>\n",
       "      <th>3</th>\n",
       "      <td>3</td>\n",
       "      <td>4128</td>\n",
       "      <td>Surviving escaped prisoner likely fatigued and...</td>\n",
       "      <td>Police searching for the second of two escaped...</td>\n",
       "    </tr>\n",
       "    <tr>\n",
       "      <th>4</th>\n",
       "      <td>4</td>\n",
       "      <td>662</td>\n",
       "      <td>Clinton and Sanders neck and neck in Californi...</td>\n",
       "      <td>No matter who wins California's 475 delegates ...</td>\n",
       "    </tr>\n",
       "  </tbody>\n",
       "</table>\n",
       "</div>"
      ],
      "text/plain": [
       "   Unnamed: 0     ID                                              title  \\\n",
       "0           0  10498  September New Homes Sales Rise——-Back To 1992 ...   \n",
       "1           1   2439  Why The Obamacare Doomsday Cult Can't Admit It...   \n",
       "2           2    864  Sanders, Cruz resist pressure after NY losses,...   \n",
       "3           3   4128  Surviving escaped prisoner likely fatigued and...   \n",
       "4           4    662  Clinton and Sanders neck and neck in Californi...   \n",
       "\n",
       "                                                text  \n",
       "0  September New Homes Sales Rise Back To 1992 Le...  \n",
       "1  But when Congress debated and passed the Patie...  \n",
       "2  The Bernie Sanders and Ted Cruz campaigns vowe...  \n",
       "3  Police searching for the second of two escaped...  \n",
       "4  No matter who wins California's 475 delegates ...  "
      ]
     },
     "execution_count": 3,
     "metadata": {},
     "output_type": "execute_result"
    }
   ],
   "source": [
    "data_test = pd.read_csv('test_fake_news.csv')\n",
    "data_test.head()"
   ]
  },
  {
   "cell_type": "markdown",
   "metadata": {},
   "source": [
    "#### Data Cleaning"
   ]
  },
  {
   "cell_type": "code",
   "execution_count": 4,
   "metadata": {},
   "outputs": [
    {
     "name": "stdout",
     "output_type": "stream",
     "text": [
      "Duplicates in Title field: 31\n",
      "Duplicates in Text field: 160\n",
      "Duplicate rows: 9\n"
     ]
    }
   ],
   "source": [
    "def find_duplicates():\n",
    "    print(\"Duplicates in Title field:\", sum(data.duplicated(subset=\"title\", keep=\"first\")))\n",
    "    print(\"Duplicates in Text field:\", sum(data.duplicated(subset=\"text\", keep=\"first\")))\n",
    "    print(\"Duplicate rows:\", sum(data[data.text.notnull()].duplicated(subset=[\"text\", \"title\", \"label\", \"X1\", \"X2\"], keep=\"first\")))\n",
    "\n",
    "find_duplicates()"
   ]
  },
  {
   "cell_type": "code",
   "execution_count": 5,
   "metadata": {},
   "outputs": [
    {
     "name": "stdout",
     "output_type": "stream",
     "text": [
      "Number of duplicates after removal\n",
      "Duplicates in Title field: 22\n",
      "Duplicates in Text field: 151\n",
      "Duplicate rows: 0\n"
     ]
    }
   ],
   "source": [
    "data.drop_duplicates(subset=[\"text\", \"title\", \"label\", \"X1\", \"X2\"], keep=\"first\", inplace=True)\n",
    "print(\"Number of duplicates after removal\")\n",
    "find_duplicates()"
   ]
  },
  {
   "cell_type": "code",
   "execution_count": 6,
   "metadata": {},
   "outputs": [
    {
     "name": "stdout",
     "output_type": "stream",
     "text": [
      "Number of rows that have misplaced data: 33\n"
     ]
    },
    {
     "data": {
      "text/html": [
       "<div>\n",
       "<style scoped>\n",
       "    .dataframe tbody tr th:only-of-type {\n",
       "        vertical-align: middle;\n",
       "    }\n",
       "\n",
       "    .dataframe tbody tr th {\n",
       "        vertical-align: top;\n",
       "    }\n",
       "\n",
       "    .dataframe thead th {\n",
       "        text-align: right;\n",
       "    }\n",
       "</style>\n",
       "<table border=\"1\" class=\"dataframe\">\n",
       "  <thead>\n",
       "    <tr style=\"text-align: right;\">\n",
       "      <th></th>\n",
       "      <th>ID</th>\n",
       "      <th>title</th>\n",
       "      <th>text</th>\n",
       "      <th>label</th>\n",
       "      <th>X1</th>\n",
       "      <th>X2</th>\n",
       "    </tr>\n",
       "  </thead>\n",
       "  <tbody>\n",
       "    <tr>\n",
       "      <th>192</th>\n",
       "      <td>599</td>\n",
       "      <td>Election Day: No Legal Pot In Ohio</td>\n",
       "      <td>Democrats Lose In The South</td>\n",
       "      <td>Election Day: No Legal Pot In Ohio; Democrats ...</td>\n",
       "      <td>REAL</td>\n",
       "      <td>NaN</td>\n",
       "    </tr>\n",
       "    <tr>\n",
       "      <th>308</th>\n",
       "      <td>10194</td>\n",
       "      <td>Who rode it best? Jesse Jackson mounts up to f...</td>\n",
       "      <td>Leonardo DiCaprio to the rescue?</td>\n",
       "      <td>Who rode it best? Jesse Jackson mounts up to f...</td>\n",
       "      <td>FAKE</td>\n",
       "      <td>NaN</td>\n",
       "    </tr>\n",
       "    <tr>\n",
       "      <th>382</th>\n",
       "      <td>356</td>\n",
       "      <td>Black Hawk crashes off Florida</td>\n",
       "      <td>human remains found</td>\n",
       "      <td>(CNN) Thick fog forced authorities to suspend ...</td>\n",
       "      <td>REAL</td>\n",
       "      <td>NaN</td>\n",
       "    </tr>\n",
       "    <tr>\n",
       "      <th>660</th>\n",
       "      <td>2786</td>\n",
       "      <td>Afghanistan: 19 die in air attacks on hospital</td>\n",
       "      <td>U.S. investigating</td>\n",
       "      <td>(CNN) Aerial bombardments blew apart a Doctors...</td>\n",
       "      <td>REAL</td>\n",
       "      <td>NaN</td>\n",
       "    </tr>\n",
       "    <tr>\n",
       "      <th>889</th>\n",
       "      <td>3622</td>\n",
       "      <td>Al Qaeda rep says group directed Paris magazin...</td>\n",
       "      <td>US issues travel warning</td>\n",
       "      <td>A member of Al Qaeda's branch in Yemen said Fr...</td>\n",
       "      <td>REAL</td>\n",
       "      <td>NaN</td>\n",
       "    </tr>\n",
       "  </tbody>\n",
       "</table>\n",
       "</div>"
      ],
      "text/plain": [
       "        ID                                              title  \\\n",
       "192    599                 Election Day: No Legal Pot In Ohio   \n",
       "308  10194  Who rode it best? Jesse Jackson mounts up to f...   \n",
       "382    356                     Black Hawk crashes off Florida   \n",
       "660   2786     Afghanistan: 19 die in air attacks on hospital   \n",
       "889   3622  Al Qaeda rep says group directed Paris magazin...   \n",
       "\n",
       "                                  text  \\\n",
       "192        Democrats Lose In The South   \n",
       "308   Leonardo DiCaprio to the rescue?   \n",
       "382                human remains found   \n",
       "660                 U.S. investigating   \n",
       "889           US issues travel warning   \n",
       "\n",
       "                                                 label    X1   X2  \n",
       "192  Election Day: No Legal Pot In Ohio; Democrats ...  REAL  NaN  \n",
       "308  Who rode it best? Jesse Jackson mounts up to f...  FAKE  NaN  \n",
       "382  (CNN) Thick fog forced authorities to suspend ...  REAL  NaN  \n",
       "660  (CNN) Aerial bombardments blew apart a Doctors...  REAL  NaN  \n",
       "889  A member of Al Qaeda's branch in Yemen said Fr...  REAL  NaN  "
      ]
     },
     "execution_count": 6,
     "metadata": {},
     "output_type": "execute_result"
    }
   ],
   "source": [
    "misplaced_rows_label = (data[\"label\"] != \"FAKE\" ) & (data[\"label\"] != \"REAL\")\n",
    "print(\"Number of rows that have misplaced data:\", sum(misplaced_rows_label))\n",
    "data[misplaced_rows_label].head()"
   ]
  },
  {
   "cell_type": "markdown",
   "metadata": {},
   "source": [
    "33 rows have misplaced data, they do not have the labels, but data from text field"
   ]
  },
  {
   "cell_type": "code",
   "execution_count": 7,
   "metadata": {},
   "outputs": [
    {
     "name": "stdout",
     "output_type": "stream",
     "text": [
      "Number of rows that have misplaced data: 31\n"
     ]
    },
    {
     "data": {
      "text/html": [
       "<div>\n",
       "<style scoped>\n",
       "    .dataframe tbody tr th:only-of-type {\n",
       "        vertical-align: middle;\n",
       "    }\n",
       "\n",
       "    .dataframe tbody tr th {\n",
       "        vertical-align: top;\n",
       "    }\n",
       "\n",
       "    .dataframe thead th {\n",
       "        text-align: right;\n",
       "    }\n",
       "</style>\n",
       "<table border=\"1\" class=\"dataframe\">\n",
       "  <thead>\n",
       "    <tr style=\"text-align: right;\">\n",
       "      <th></th>\n",
       "      <th>ID</th>\n",
       "      <th>title</th>\n",
       "      <th>text</th>\n",
       "      <th>label</th>\n",
       "      <th>X1</th>\n",
       "      <th>X2</th>\n",
       "    </tr>\n",
       "  </thead>\n",
       "  <tbody>\n",
       "    <tr>\n",
       "      <th>192</th>\n",
       "      <td>599</td>\n",
       "      <td>Election Day: No Legal Pot In Ohio</td>\n",
       "      <td>Democrats Lose In The South</td>\n",
       "      <td>Election Day: No Legal Pot In Ohio; Democrats ...</td>\n",
       "      <td>REAL</td>\n",
       "      <td>NaN</td>\n",
       "    </tr>\n",
       "    <tr>\n",
       "      <th>308</th>\n",
       "      <td>10194</td>\n",
       "      <td>Who rode it best? Jesse Jackson mounts up to f...</td>\n",
       "      <td>Leonardo DiCaprio to the rescue?</td>\n",
       "      <td>Who rode it best? Jesse Jackson mounts up to f...</td>\n",
       "      <td>FAKE</td>\n",
       "      <td>NaN</td>\n",
       "    </tr>\n",
       "    <tr>\n",
       "      <th>382</th>\n",
       "      <td>356</td>\n",
       "      <td>Black Hawk crashes off Florida</td>\n",
       "      <td>human remains found</td>\n",
       "      <td>(CNN) Thick fog forced authorities to suspend ...</td>\n",
       "      <td>REAL</td>\n",
       "      <td>NaN</td>\n",
       "    </tr>\n",
       "    <tr>\n",
       "      <th>660</th>\n",
       "      <td>2786</td>\n",
       "      <td>Afghanistan: 19 die in air attacks on hospital</td>\n",
       "      <td>U.S. investigating</td>\n",
       "      <td>(CNN) Aerial bombardments blew apart a Doctors...</td>\n",
       "      <td>REAL</td>\n",
       "      <td>NaN</td>\n",
       "    </tr>\n",
       "    <tr>\n",
       "      <th>889</th>\n",
       "      <td>3622</td>\n",
       "      <td>Al Qaeda rep says group directed Paris magazin...</td>\n",
       "      <td>US issues travel warning</td>\n",
       "      <td>A member of Al Qaeda's branch in Yemen said Fr...</td>\n",
       "      <td>REAL</td>\n",
       "      <td>NaN</td>\n",
       "    </tr>\n",
       "  </tbody>\n",
       "</table>\n",
       "</div>"
      ],
      "text/plain": [
       "        ID                                              title  \\\n",
       "192    599                 Election Day: No Legal Pot In Ohio   \n",
       "308  10194  Who rode it best? Jesse Jackson mounts up to f...   \n",
       "382    356                     Black Hawk crashes off Florida   \n",
       "660   2786     Afghanistan: 19 die in air attacks on hospital   \n",
       "889   3622  Al Qaeda rep says group directed Paris magazin...   \n",
       "\n",
       "                                  text  \\\n",
       "192        Democrats Lose In The South   \n",
       "308   Leonardo DiCaprio to the rescue?   \n",
       "382                human remains found   \n",
       "660                 U.S. investigating   \n",
       "889           US issues travel warning   \n",
       "\n",
       "                                                 label    X1   X2  \n",
       "192  Election Day: No Legal Pot In Ohio; Democrats ...  REAL  NaN  \n",
       "308  Who rode it best? Jesse Jackson mounts up to f...  FAKE  NaN  \n",
       "382  (CNN) Thick fog forced authorities to suspend ...  REAL  NaN  \n",
       "660  (CNN) Aerial bombardments blew apart a Doctors...  REAL  NaN  \n",
       "889  A member of Al Qaeda's branch in Yemen said Fr...  REAL  NaN  "
      ]
     },
     "execution_count": 7,
     "metadata": {},
     "output_type": "execute_result"
    }
   ],
   "source": [
    "misplaced_rows_X1 = (data[\"X1\"] == \"FAKE\" ) | (data[\"X1\"] == \"REAL\")\n",
    "print(\"Number of rows that have misplaced data:\", sum(misplaced_rows_X1))\n",
    "data[misplaced_rows_X1].head()"
   ]
  },
  {
   "cell_type": "markdown",
   "metadata": {},
   "source": [
    "labels in 31 of those rows are in X1 column"
   ]
  },
  {
   "cell_type": "code",
   "execution_count": 8,
   "metadata": {},
   "outputs": [
    {
     "name": "stdout",
     "output_type": "stream",
     "text": [
      "Number of rows that have misplaced data: 2\n"
     ]
    },
    {
     "data": {
      "text/html": [
       "<div>\n",
       "<style scoped>\n",
       "    .dataframe tbody tr th:only-of-type {\n",
       "        vertical-align: middle;\n",
       "    }\n",
       "\n",
       "    .dataframe tbody tr th {\n",
       "        vertical-align: top;\n",
       "    }\n",
       "\n",
       "    .dataframe thead th {\n",
       "        text-align: right;\n",
       "    }\n",
       "</style>\n",
       "<table border=\"1\" class=\"dataframe\">\n",
       "  <thead>\n",
       "    <tr style=\"text-align: right;\">\n",
       "      <th></th>\n",
       "      <th>ID</th>\n",
       "      <th>title</th>\n",
       "      <th>text</th>\n",
       "      <th>label</th>\n",
       "      <th>X1</th>\n",
       "      <th>X2</th>\n",
       "    </tr>\n",
       "  </thead>\n",
       "  <tbody>\n",
       "    <tr>\n",
       "      <th>2184</th>\n",
       "      <td>9</td>\n",
       "      <td>Planned Parenthood’s lobbying effort</td>\n",
       "      <td>pay raises for federal workers</td>\n",
       "      <td>and the future Fed rates</td>\n",
       "      <td>PLANNED PARENTHOOD’S LOBBYING GETS AGGRESSIVE....</td>\n",
       "      <td>REAL</td>\n",
       "    </tr>\n",
       "    <tr>\n",
       "      <th>3537</th>\n",
       "      <td>6268</td>\n",
       "      <td>Chart Of The Day: Since 2009—–Recovery For The 5%</td>\n",
       "      <td>Stagnation for the 95%</td>\n",
       "      <td>Chart Of The Day: Since 2009 Recovery For The 5%</td>\n",
       "      <td>Stagnation for the 95%</td>\n",
       "      <td>FAKE</td>\n",
       "    </tr>\n",
       "  </tbody>\n",
       "</table>\n",
       "</div>"
      ],
      "text/plain": [
       "        ID                                              title  \\\n",
       "2184     9               Planned Parenthood’s lobbying effort   \n",
       "3537  6268  Chart Of The Day: Since 2009—–Recovery For The 5%   \n",
       "\n",
       "                                 text  \\\n",
       "2184   pay raises for federal workers   \n",
       "3537           Stagnation for the 95%   \n",
       "\n",
       "                                                 label  \\\n",
       "2184                          and the future Fed rates   \n",
       "3537  Chart Of The Day: Since 2009 Recovery For The 5%   \n",
       "\n",
       "                                                     X1    X2  \n",
       "2184  PLANNED PARENTHOOD’S LOBBYING GETS AGGRESSIVE....  REAL  \n",
       "3537                           Stagnation for the 95%    FAKE  "
      ]
     },
     "execution_count": 8,
     "metadata": {},
     "output_type": "execute_result"
    }
   ],
   "source": [
    "misplaced_rows_X2 = (data[\"X2\"] == \"FAKE\" ) | (data[\"X2\"] == \"REAL\")\n",
    "print(\"Number of rows that have misplaced data:\", sum(misplaced_rows_X2))\n",
    "data[misplaced_rows_X2].head()"
   ]
  },
  {
   "cell_type": "markdown",
   "metadata": {},
   "source": [
    "And in 2 cases labels are in X2 column.  "
   ]
  },
  {
   "cell_type": "code",
   "execution_count": 9,
   "metadata": {},
   "outputs": [
    {
     "name": "stdout",
     "output_type": "stream",
     "text": [
      "Missing values in 'tag' field:  0\n",
      "Proportion of fake/real news in training data:\n",
      " tag\n",
      "REAL    2000\n",
      "FAKE    1990\n",
      "Name: count, dtype: int64\n"
     ]
    }
   ],
   "source": [
    "# Find the indexes where X1 field contains REAL/FAKE values\n",
    "idx_X1_label = (data[\"X1\"] == \"FAKE\") | (data[\"X1\"] == \"REAL\")\n",
    "\n",
    "# Create a new field called 'tag' and fill it with REAL/FAKE values from X1\n",
    "data.loc[idx_X1_label, \"tag\"] = data.loc[idx_X1_label, \"X1\"].values\n",
    "\n",
    "# We do the same for X2 field\n",
    "idx_X2_label = (data[\"X2\"] == \"FAKE\") | (data[\"X2\"] == \"REAL\")\n",
    "data.loc[idx_X2_label, \"tag\"] = data.loc[idx_X2_label, \"X2\"].values\n",
    "data.loc[idx_X2_label, \"X2\"] = np.nan\n",
    "\n",
    "# Then finally we fill the rest of the values in 'target' field from the REAL/FAKE values from 'label' field\n",
    "data.tag = data.tag.fillna(value=data.label)\n",
    "\n",
    "print(\"Missing values in 'tag' field: \", sum(data.tag.isnull()))\n",
    "print(\"Proportion of fake/real news in training data:\\n\", data.tag.value_counts())"
   ]
  },
  {
   "cell_type": "code",
   "execution_count": 10,
   "metadata": {},
   "outputs": [],
   "source": [
    "# Clear REAL/FAKE values in X1\n",
    "data.loc[idx_X1_label, \"X1\"] = np.nan\n",
    "\n",
    "# Clear REAL/FAKE values in label\n",
    "idx_label = (data[\"label\"] == \"FAKE\") | (data[\"label\"] == \"REAL\")\n",
    "data.loc[idx_label, \"label\"] = np.nan\n",
    "\n",
    "# Replacing the NaN values in X1 and label fields with \"\"\n",
    "data.X1.fillna(\"\", inplace=True)\n",
    "data.label.fillna(\"\", inplace=True)\n",
    "\n",
    "# Merge title, text, label and X1 column to combine all text related values.\n",
    "data[\"full_text\"] = data[[\"title\", \"text\", \"label\", \"X1\"]].apply(\n",
    "    lambda x: \". \".join(x.astype(str)), axis=1\n",
    ")"
   ]
  },
  {
   "cell_type": "markdown",
   "metadata": {},
   "source": [
    "In order to have identical data shape in test and train datasets, we also combine \"title\" and \"text\" fields in the test dataset"
   ]
  },
  {
   "cell_type": "code",
   "execution_count": 11,
   "metadata": {},
   "outputs": [],
   "source": [
    "data_test[\"full_text\"] = data_test[[\"title\", \"text\"]].apply(\n",
    "    lambda x: \". \".join(x.astype(str)), axis=1\n",
    ")"
   ]
  },
  {
   "cell_type": "markdown",
   "metadata": {},
   "source": [
    "#### Feature Engineering"
   ]
  },
  {
   "cell_type": "markdown",
   "metadata": {},
   "source": [
    "we process text transformations using regular expressions, that will possibly help model to predict better:\n",
    "* html tag removal\n",
    "* numeric characters removal\n",
    "* punctuation removal\n",
    "* non-alphabetic character removal\n",
    "* stop words removal\n",
    "* remove words that are less than 2 char long\n",
    "* reduce words to its root forms"
   ]
  },
  {
   "cell_type": "code",
   "execution_count": 12,
   "metadata": {},
   "outputs": [],
   "source": [
    "data[\"full_text\"] = data[\"full_text\"].str.replace(r\"<.*?>\", \"\")\n",
    "data_test[\"full_text\"] = data_test[\"full_text\"].str.replace(r\"<.*?>\", \"\")\n",
    "data[\"full_text\"] = data[\"full_text\"].str.replace(r\"\\d+\", \"\")\n",
    "data_test[\"full_text\"] = data_test[\"full_text\"].str.replace(r\"\\d+\", \"\")\n",
    "data['full_text'] = data['full_text'].str.replace(r\"[^\\w\\s]\", \" \")\n",
    "data_test['full_text'] = data_test['full_text'].str.replace(r\"[^\\w\\s]\", \" \")\n",
    "data[\"full_text\"] = data[\"full_text\"].str.replace(r\"[^A-Za-z]\", \" \")\n",
    "data_test[\"full_text\"] = data_test[\"full_text\"].str.replace(r\"[^A-Za-z]\", \" \")\n",
    "stop = stopwords.words(\"english\")\n",
    "data[\"full_text\"] = data[\"full_text\"].apply(lambda x: \" \".join(x for x in x.split() if x not in stop))\n",
    "data_test[\"full_text\"] = data_test[\"full_text\"].apply(lambda x: \" \".join(x for x in x.split() if x not in stop))\n",
    "data[\"full_text\"] = data[\"full_text\"].apply(lambda x: \" \".join(x for x in x.split() if len(x) > 1))\n",
    "data_test[\"full_text\"] = data_test[\"full_text\"].apply(lambda x: \" \".join(x for x in x.split() if len(x) > 1))\n",
    "data[\"full_text\"] = data[\"full_text\"].apply(lambda x: \" \".join([Word(word).lemmatize() for word in x.split()]))\n",
    "data_test[\"full_text\"] = data_test[\"full_text\"].apply(lambda x: \" \".join([Word(word).lemmatize() for word in x.split()]))\n"
   ]
  },
  {
   "cell_type": "markdown",
   "metadata": {},
   "source": [
    "#### Bigrams\n",
    "These are useful to identify what type of news in the dataset. Graph shows that it mainly contains news regarding US politics\n"
   ]
  },
  {
   "cell_type": "code",
   "execution_count": 13,
   "metadata": {},
   "outputs": [
    {
     "name": "stderr",
     "output_type": "stream",
     "text": [
      "/var/folders/c6/mw_ts3n12lz1m4fh1scsp06c0000gn/T/ipykernel_25301/298294555.py:13: UserWarning: set_ticklabels() should only be used with a fixed number of ticks, i.e. after set_ticks() or using a FixedLocator.\n",
      "  g.set_xticklabels(g.get_xticklabels(), rotation=45)\n"
     ]
    },
    {
     "data": {
      "image/png": "[encoded data removed]",
      "text/plain": [
       "<Figure size 640x480 with 1 Axes>"
      ]
     },
     "metadata": {},
     "output_type": "display_data"
    }
   ],
   "source": [
    "def get_top_n_bigram(corpus, n=None):\n",
    "    vec = TfidfVectorizer(ngram_range=(2, 2)).fit(corpus)\n",
    "    bag_of_words = vec.transform(corpus)\n",
    "    sum_words = bag_of_words.sum(axis=0)\n",
    "    words_freq = [(word, sum_words[0, idx]) for word, idx in vec.vocabulary_.items()]\n",
    "    words_freq = sorted(words_freq, key=lambda x: x[1], reverse=True)\n",
    "    return words_freq[:n]\n",
    "\n",
    "common_words = get_top_n_bigram(data['full_text'], 20)\n",
    "df_bigram = pd.DataFrame(common_words, columns=[\"Bigram\", \"Freq\"])\n",
    "\n",
    "g = sns.barplot(x=\"Bigram\", y=\"Freq\", data=df_bigram)\n",
    "g.set_xticklabels(g.get_xticklabels(), rotation=45)\n",
    "plt.title('Top 20 Bigrams')\n",
    "plt.show()"
   ]
  },
  {
   "cell_type": "markdown",
   "metadata": {},
   "source": [
    "#### Modelling"
   ]
  },
  {
   "cell_type": "code",
   "execution_count": 14,
   "metadata": {},
   "outputs": [],
   "source": [
    "#Splitting train dataset into train and test sets\n",
    "\n",
    "X = data[\"full_text\"]\n",
    "y = data[\"tag\"]\n",
    "X_train, X_test, y_train, y_test = train_test_split(X, y, test_size=0.2, random_state=42)\n"
   ]
  },
  {
   "cell_type": "code",
   "execution_count": 15,
   "metadata": {},
   "outputs": [
    {
     "name": "stdout",
     "output_type": "stream",
     "text": [
      "Fitting 3 folds for each of 2 candidates, totalling 6 fits\n",
      "Best score:  0.918859649122807\n",
      "Test score:  0.9298245614035088\n",
      "Best parameters:  {'clf__alpha': 0.002, 'tfidf__max_df': 0.95, 'tfidf__max_features': 50000, 'tfidf__ngram_range': (1, 3)}\n"
     ]
    }
   ],
   "source": [
    "# Naive Bayes Classifier\n",
    "nb_pipeline = Pipeline([('tfidf', TfidfVectorizer(stop_words='english')),\n",
    "               ('clf', MultinomialNB())])\n",
    "pipe_params_nb = {\n",
    "    'tfidf__max_df': [0.95],\n",
    "    'tfidf__max_features': [50000],\n",
    "    'tfidf__ngram_range': [(1,2), (1,3)],\n",
    "    \"clf__alpha\": [0.002],\n",
    "}\n",
    "model_nb_gs = GridSearchCV(\n",
    "    nb_pipeline, param_grid=pipe_params_nb, cv=3, verbose=True\n",
    ")\n",
    "model_nb_gs.fit(X_train, y_train)\n",
    "print(\"Best score: \", model_nb_gs.best_score_)\n",
    "print(\"Test score: \", model_nb_gs.score(X_test, y_test))\n",
    "print(\"Best parameters: \", model_nb_gs.best_params_)"
   ]
  },
  {
   "cell_type": "code",
   "execution_count": 16,
   "metadata": {},
   "outputs": [
    {
     "name": "stdout",
     "output_type": "stream",
     "text": [
      "Best score: 0.9304511278195489\n",
      "Test score 0.9298245614035088\n",
      "Best parameters:  {'clf__C': 0.75, 'clf__loss': 'squared_hinge', 'tfidf__max_df': 0.95, 'tfidf__max_features': 50000, 'tfidf__ngram_range': (1, 3)}\n"
     ]
    }
   ],
   "source": [
    "# Passive Aggressive Classifier\n",
    "pac_pipeline = Pipeline([('tfidf', TfidfVectorizer(stop_words='english')),\n",
    "                ('clf', PassiveAggressiveClassifier(max_iter=50))])\n",
    "# Tune GridSearchCV\n",
    "pipe_params_pac = {'tfidf__max_df': [0.95,0.90],\n",
    "               'tfidf__max_features': [50000],\n",
    "               'tfidf__ngram_range': [(1,3),(1,4)],\n",
    "               'clf__C': [0.75],\n",
    "               'clf__loss': ['squared_hinge']}\n",
    "\n",
    "model_pac_gs = GridSearchCV(pac_pipeline, param_grid=pipe_params_pac, cv=3)\n",
    "model_pac_gs.fit(X_train, y_train);\n",
    "print(\"Best score:\", model_pac_gs.best_score_)\n",
    "print(\"Test score\", model_pac_gs.score(X_test, y_test))\n",
    "print(\"Best parameters: \", model_pac_gs.best_params_)"
   ]
  },
  {
   "cell_type": "code",
   "execution_count": 17,
   "metadata": {},
   "outputs": [
    {
     "name": "stdout",
     "output_type": "stream",
     "text": [
      "Best score:  0.9194862155388471\n",
      "Test score:  0.9097744360902256\n",
      "Best parameters:  {'clf__alpha': 0.0001, 'clf__loss': 'log_loss', 'clf__max_iter': 1000, 'clf__n_jobs': -1, 'clf__penalty': 'l2', 'tfidf__ngram_range': (1, 1)}\n"
     ]
    }
   ],
   "source": [
    "# SVM Classifier\n",
    "svm_pipeline = Pipeline([('tfidf', TfidfVectorizer(stop_words='english')),\n",
    "                ('clf', SGDClassifier(random_state=41))])\n",
    "pipe_params_svm = {\n",
    "                     'tfidf__ngram_range': ([(1,1),(1,2),(1,3)]),\n",
    "                     'clf__alpha': [1e-4, 1e-3, 1e-2, 1e-1, 1e0, 1e1, 1e2, 1e3], # learning rate\n",
    "                     'clf__max_iter': [1000], # number of epochs\n",
    "                     'clf__loss': ['log_loss'], # logistic regression\n",
    "                     'clf__penalty': ['l2'],\n",
    "                     'clf__n_jobs': [-1]\n",
    "}\n",
    "\n",
    "model_svm_gs = GridSearchCV(svm_pipeline, param_grid= pipe_params_svm, cv = 3)\n",
    "model_svm_gs.fit(X_train, y_train)\n",
    "\n",
    "print(\"Best score: \", model_svm_gs.best_score_)\n",
    "print(\"Test score: \", model_svm_gs.score(X_test, y_test))\n",
    "print(\"Best parameters: \", model_svm_gs.best_params_)"
   ]
  },
  {
   "cell_type": "markdown",
   "metadata": {},
   "source": [
    "The best score (~93%) has been achieved with Naive Bayes and Passive Aggressive Classifiers, PAC is chosen to be used to predict labels on test data as it shows better score on both train and test sets"
   ]
  },
  {
   "cell_type": "code",
   "execution_count": 62,
   "metadata": {},
   "outputs": [],
   "source": [
    "#Test Data Classification\n",
    "test_data_pred = model_pac_gs.predict(data_test['full_text'])\n",
    "data_test[\"label\"] = test_data_pred\n",
    "predictions= data_test[['ID','label']]\n",
    "predictions.to_csv(\"my_predictions.csv\")"
   ]
  }
 ],
 "metadata": {
  "kernelspec": {
   "display_name": "Python 3",
   "language": "python",
   "name": "python3"
  },
  "language_info": {
   "codemirror_mode": {
    "name": "ipython",
    "version": 3
   },
   "file_extension": ".py",
   "mimetype": "text/x-python",
   "name": "python",
   "nbconvert_exporter": "python",
   "pygments_lexer": "ipython3",
   "version": "3.11.6"
  }
 },
 "nbformat": 4,
 "nbformat_minor": 2
}
